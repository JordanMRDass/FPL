{
 "cells": [
  {
   "cell_type": "code",
   "execution_count": null,
   "id": "2c2e8b2a-1434-402c-8395-77fab02b7cf3",
   "metadata": {},
   "outputs": [],
   "source": [
    "import pandas as pd\n",
    "import hvplot.pandas\n",
    "import holoviews as hv\n",
    "\n",
    "front = \"/Users/Jordandass/\"\n",
    "\n",
    "table_list = [\"Desktop/FPL/All stats/fpl_prices_new.csv\", \n",
    "\"Desktop/FPL/All stats/fpl_points.csv\", \n",
    "\"Desktop/FPL/All stats/Player_possession.csv\", \n",
    "\"Desktop/FPL/All stats/Player_defense.csv\",\n",
    "\"Desktop/FPL/All stats/Player_pass.csv\",\n",
    "\"Desktop/FPL/All stats/Player_shot.csv\"]\n",
    "\n",
    "club_dict = {\"Brentford\":\"BRE\", \"Chelsea\": \"CHE\", \"Man City\": \"MCI\", \"Norwich\": \"NOR\", \"Burnley\": \"BUR\", \"Spurs\": \"TOT\", \"Watford\": \"WAT\", \"Newcastle\": \"NEW\", \"Everton\": \"EVE\", \"Man Utd\": \"MUN\", \"Arsenal\": \"ARS\", \"Crystal Palace\": \"CRY\", \"Aston Villa\": \"AVL\", \"Brighton\": \"BHA\", \"Wolves\": \"WOL\", \"Liverpool\": \"LIV\", \"Leicester\": \"LEI\", \"Leeds\": \"LEE\", \"Southampton\": \"SOU\", \"West Ham\": \"WHU\"}\n",
    "min_games = 10\n",
    "for num, table in enumerate(table_list):  \n",
    "    if num == 0:\n",
    "        df = pd.read_csv(f\"{front}{table}\")\n",
    "        \n",
    "        #df[\"team\"] = [club_dict[club] for club in df[\"Club\"]]\n",
    "    elif num == 1:\n",
    "        df = pd.read_csv(f\"{front}{table}\")\n",
    "        \n",
    "        df = df.sort_values(by = [\"points_per_game\", \"cost\"], ascending = [False, True])\n",
    "        \n",
    "        df_min = df[df[\"minutes\"] >= 90 * min_games]\n",
    "                \n",
    "        df_min[\"points_per_min\"] = df_min[\"total_points\"]/df_min[\"minutes\"]\n",
    "        df_min[\"points_per_mil\"] = df_min[\"total_points\"]/df_min[\"cost\"]\n",
    "        \n",
    "        gk_scatter = df_min[df_min[\"position\"] == \"GKP\"].hvplot.scatter(x = \"points_per_min\", y = \"points_per_mil\", hover_cols = [\"name\", \"team\", \"position\", \"cost\", \"minutes\", \"total_points\"])\n",
    "        gk_slope = hv.Slope.from_scatter(gk_scatter).opts(color = \"yellow\")\n",
    "        \n",
    "        def_scatter = df_min[df_min[\"position\"] == \"DEF\"].hvplot.scatter(x = \"points_per_min\", y = \"points_per_mil\", hover_cols = [\"name\", \"team\", \"position\", \"cost\", \"minutes\", \"total_points\"])\n",
    "        def_slope = hv.Slope.from_scatter(def_scatter).opts(color = \"blue\")\n",
    "        \n",
    "        mid_scatter = df_min[df_min[\"position\"] == \"MID\"].hvplot.scatter(x = \"points_per_min\", y = \"points_per_mil\", hover_cols = [\"name\", \"team\", \"position\", \"cost\", \"minutes\", \"total_points\"])\n",
    "        mid_slope = hv.Slope.from_scatter(mid_scatter).opts(color = \"green\")\n",
    "        \n",
    "        fwd_scatter = df_min[df_min[\"position\"] == \"FWD\"].hvplot.scatter(x = \"points_per_min\", y = \"points_per_mil\", hover_cols = [\"name\", \"team\", \"position\", \"cost\", \"minutes\", \"total_points\"])\n",
    "        fwd_slope = hv.Slope.from_scatter(fwd_scatter).opts(color = \"red\")\n",
    "        \n",
    "        full_scatter = df_min.hvplot.scatter(x = \"points_per_min\", y = \"points_per_mil\", by = \"position\", hover_cols = [\"name\", \"team\", \"position\", \"cost\", \"minutes\", \"total_points\"])\n",
    "        #display(full_scatter * gk_slope * def_slope * mid_slope * fwd_slope)\n",
    "\n"
   ]
  }
 ],
 "metadata": {
  "kernelspec": {
   "display_name": "Python 3 (ipykernel)",
   "language": "python",
   "name": "python3"
  },
  "language_info": {
   "codemirror_mode": {
    "name": "ipython",
    "version": 3
   },
   "file_extension": ".py",
   "mimetype": "text/x-python",
   "name": "python",
   "nbconvert_exporter": "python",
   "pygments_lexer": "ipython3",
   "version": "3.8.2"
  }
 },
 "nbformat": 4,
 "nbformat_minor": 5
}
