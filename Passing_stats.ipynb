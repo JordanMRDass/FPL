{
 "cells": [
  {
   "cell_type": "code",
   "execution_count": 8,
   "id": "3ac0314f-f41d-4889-b553-0303aef9422e",
   "metadata": {},
   "outputs": [
    {
     "name": "stderr",
     "output_type": "stream",
     "text": [
      "[WDM] - \n",
      "\n",
      "[WDM] - ====== WebDriver manager ======\n",
      "[WDM] - Current google-chrome version is 95.0.4638\n",
      "[WDM] - Get LATEST driver version for 95.0.4638\n",
      "[WDM] - Driver [/Users/jordandass/.wdm/drivers/chromedriver/mac64/95.0.4638.17/chromedriver] found in cache\n"
     ]
    }
   ],
   "source": [
    "#Shooting stats for teams\n",
    "\n",
    "from selenium import webdriver\n",
    "from selenium.webdriver.common.keys import Keys\n",
    "import time\n",
    "from selenium.webdriver.common.by import By\n",
    "from selenium.webdriver.support.ui import WebDriverWait\n",
    "from selenium.webdriver.support import expected_conditions as EC\n",
    "import requests\n",
    "from bs4 import BeautifulSoup\n",
    "import re\n",
    "import json\n",
    "import pandas as pd\n",
    "from send2trash import send2trash\n",
    "from itertools import combinations\n",
    "from itertools import product\n",
    "from collections import defaultdict\n",
    "import unicodedata\n",
    "from datetime import datetime \n",
    "\n",
    "PATH = \"/Users/jordandass/Desktop/Drivers/chromedriver\"\n",
    "\n",
    "from webdriver_manager.chrome import ChromeDriverManager\n",
    "\n",
    "driver = webdriver.Chrome(ChromeDriverManager().install())\n",
    "\n",
    "url = \"https://fbref.com/en/comps/9/passing/Premier-League-Stats\"\n",
    "\n",
    "driver.get(url)\n",
    "columns = [\"Squad\", \"Pl\",\t\"90s\",\t\"Total Cmp\",\t\"Total Att\",\t\"Total Cmp%\",\t\"Total TotDist\",\t\"Total PrgDist\",\t\"Short Cmp\",\t\"Short Att\",\t\"Short Cmp%\",\t\"Med Cmp\",\t\"Med Att\",\t\"Med Cmp%\",\t\"Long Cmp\",\t\"Long Att\",\t\"Long Cmp%\",\t\"Ast\",\t\"xA\",\t\"A-xA\",\t\"KP\",\t\"1/3\",\t\"PPA\",\t\"CrsPA\",\t\"Prog\"]\n",
    "\n",
    "array = []\n",
    "all_team_space ='|'.join(['Chelsea ', 'Tottenham ', 'Wolves ', 'Brentford ', 'Leeds United ', 'Leicester City ', 'Crystal Palace ', 'Liverpool ', 'Manchester City ', 'Everton ', 'Manchester Utd ', 'Norwich City ', 'Arsenal ', 'Burnley ', 'Brighton ', 'Aston Villa ', 'West Ham ', 'Newcastle Utd ', 'Watford ', 'Southampton '])\n",
    "for num in range(1, 21):\n",
    "    try:\n",
    "        team_dat = driver.find_element_by_xpath('//*[@id=\"stats_squads_passing_for\"]/tbody/tr['+str(num)+']')\n",
    "        team_dat = str(team_dat.text)\n",
    "        team_name = re.findall(all_team_space, team_dat)[0]\n",
    "        team_dat = re.sub(team_name, '', team_dat)\n",
    "        list_team_dat = team_dat.split(' ')\n",
    "        full_list_team_dat = [team_name.strip()] + list_team_dat\n",
    "        array.append(full_list_team_dat)\n",
    "    except:\n",
    "        break\n",
    "\n",
    "pd.DataFrame(array, columns = columns).to_csv(\"Teams_pass_data.csv\")\n",
    "\n",
    "\n",
    "driver.find_element_by_xpath('//*[@id=\"all_stats_squads_passing\"]/div[3]/div[2]/a').click()\n",
    "time.sleep(2)\n",
    "array = []\n",
    "all_team_space ='|'.join(['vs Chelsea ', 'vs Tottenham ', 'vs Wolves ', 'vs Brentford ', 'vs Leeds United ', 'vs Leicester City ', 'vs Crystal Palace ', 'vs Liverpool ', 'vs Manchester City ', 'vs Everton ', 'vs Manchester Utd ', 'vs Norwich City ', 'vs Arsenal ', 'vs Burnley ', 'vs Brighton ', 'vs Aston Villa ', 'vs West Ham ', 'vs Newcastle Utd ', 'vs Watford ', 'vs Southampton '])\n",
    "for num in range(1, 21):\n",
    "    team_dat = driver.find_element_by_xpath('//*[@id=\"stats_squads_passing_against\"]/tbody/tr['+str(num)+']')\n",
    "    team_dat = str(team_dat.text)\n",
    "    team_name = re.findall(all_team_space, team_dat)[0]\n",
    "    team_dat = re.sub(team_name, '', team_dat)\n",
    "    list_team_dat = team_dat.split(' ')\n",
    "    full_list_team_dat = [team_name.strip()] + list_team_dat\n",
    "    array.append(full_list_team_dat)\n",
    "\n",
    "pd.DataFrame(array, columns = columns).to_csv(\"Opponent_pass_data_agaisnt_team.csv\")\n",
    "\n",
    "driver.quit()\n"
   ]
  },
  {
   "cell_type": "code",
   "execution_count": 11,
   "id": "610ca119-fbf5-483c-b6b2-5578d64c37ca",
   "metadata": {},
   "outputs": [
    {
     "data": {
      "image/png": "[encoded data removed]",
      "text/plain": [
       "<Figure size 432x288 with 1 Axes>"
      ]
     },
     "metadata": {
      "needs_background": "light"
     },
     "output_type": "display_data"
    }
   ],
   "source": [
    "import pandas as pd\n",
    "\n",
    "df = pd.read_csv(\"Teams_pass_data.csv\")\n",
    "\n",
    "variety_cmp_array, variety_att_array, prog_array = [], [], []\n",
    "for team in list(df[\"Squad\"]):\n",
    "    total_att_passes = df[df[\"Squad\"] == team][\"Total Att\"].values[0]\n",
    "    per_att_short_passes = (df[df[\"Squad\"] == team][\"Short Att\"].values[0]/total_att_passes)*100\n",
    "    per_att_med_passes = (df[df[\"Squad\"] == team][\"Med Att\"].values[0]/total_att_passes)*100\n",
    "    per_att_long_passes = (df[df[\"Squad\"] == team][\"Long Att\"].values[0]/total_att_passes)*100\n",
    "    \n",
    "    per_cmp_passes = df[df[\"Squad\"] == team][\"Total Cmp%\"].values[0]\n",
    "    \n",
    "    total_cmp_passes = df[df[\"Squad\"] == team][\"Total Cmp\"].values[0]\n",
    "    per_cmp_short_passes = (df[df[\"Squad\"] == team][\"Short Cmp\"].values[0]/total_cmp_passes)*100\n",
    "    per_cmp_med_passes = (df[df[\"Squad\"] == team][\"Med Cmp\"].values[0]/total_cmp_passes)*100\n",
    "    per_cmp_long_passes = (df[df[\"Squad\"] == team][\"Long Cmp\"].values[0]/total_cmp_passes)*100\n",
    "    \n",
    "    \n",
    "    prog_passes = df[df[\"Squad\"] == team][\"Prog\"].values[0]\n",
    "    per_prog_passes = (prog_passes/total_cmp_passes)*100\n",
    "    prog_passes_dist = df[df[\"Squad\"] == team][\"Total PrgDist\"].values[0]\n",
    "    \n",
    "    variety_cmp_array.append([team, per_cmp_passes, total_cmp_passes, per_cmp_short_passes, per_cmp_med_passes, per_cmp_long_passes])\n",
    "    variety_att_array.append([team, per_cmp_passes, total_att_passes, per_att_short_passes, per_att_med_passes, per_att_long_passes])\n",
    "    prog_array.append([team, per_prog_passes, prog_passes, prog_passes_dist])\n",
    "\n",
    "variety_cmp_df = pd.DataFrame(variety_cmp_array, columns = [\"Squad\", \"per_cmp\", \"total_cmp\", \"per_short_cmp\", \"per_med_cmp\", \"per_long_cmp\"]).set_index(\"Squad\")\n",
    "barplot1 = variety_cmp_df.plot.bar(rot = 0, figuresize = (30, 10))\n",
    "\n",
    "    \n",
    "    \n",
    "    "
   ]
  },
  {
   "cell_type": "code",
   "execution_count": null,
   "id": "c83d87c9-2223-426e-a227-d572a65a2b57",
   "metadata": {},
   "outputs": [],
   "source": []
  }
 ],
 "metadata": {
  "kernelspec": {
   "display_name": "Python 3",
   "language": "python",
   "name": "python3"
  },
  "language_info": {
   "codemirror_mode": {
    "name": "ipython",
    "version": 3
   },
   "file_extension": ".py",
   "mimetype": "text/x-python",
   "name": "python",
   "nbconvert_exporter": "python",
   "pygments_lexer": "ipython3",
   "version": "3.8.8"
  }
 },
 "nbformat": 4,
 "nbformat_minor": 5
}
